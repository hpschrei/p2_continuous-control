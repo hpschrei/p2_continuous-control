{
 "cells": [
  {
   "cell_type": "markdown",
   "metadata": {
    "pycharm": {
     "name": "#%% md\n"
    }
   },
   "source": [
    "# Continuous Control\n",
    "\n",
    "---\n",
    "\n",
    "In this notebook, you will learn how to use the Unity ML-Agents environment for the second project of the [Deep Reinforcement Learning Nanodegree](https://www.udacity.com/course/deep-reinforcement-learning-nanodegree--nd893) program.\n",
    "\n",
    "### 1. Start the Environment\n",
    "\n",
    "We begin by importing the necessary packages.  If the code cell below returns an error, please revisit the project instructions to double-check that you have installed [Unity ML-Agents](https://github.com/Unity-Technologies/ml-agents/blob/master/docs/Installation.md) and [NumPy](http://www.numpy.org/)."
   ]
  },
  {
   "cell_type": "code",
   "execution_count": null,
   "metadata": {
    "pycharm": {
     "name": "#%%\n"
    }
   },
   "outputs": [],
   "source": [
    "from unityagents import UnityEnvironment\n",
    "import numpy as np\n",
    "import math\n",
    "\n",
    "import torch\n",
    "import torch.nn as nn\n",
    "import torch.nn.functional as F \n",
    "import torch.optim as optim"
   ]
  },
  {
   "cell_type": "markdown",
   "metadata": {
    "pycharm": {
     "name": "#%% md\n"
    }
   },
   "source": [
    "Next, we will start the environment!  **_Before running the code cell below_**, change the `file_name` parameter to match the location of the Unity environment that you downloaded.\n",
    "\n",
    "- **Mac**: `\"path/to/Reacher.app\"`\n",
    "- **Windows** (x86): `\"path/to/Reacher_Windows_x86/Reacher.exe\"`\n",
    "- **Windows** (x86_64): `\"path/to/Reacher_Windows_x86_64/Reacher.exe\"`\n",
    "- **Linux** (x86): `\"path/to/Reacher_Linux/Reacher.x86\"`\n",
    "- **Linux** (x86_64): `\"path/to/Reacher_Linux/Reacher.x86_64\"`\n",
    "- **Linux** (x86, headless): `\"path/to/Reacher_Linux_NoVis/Reacher.x86\"`\n",
    "- **Linux** (x86_64, headless): `\"path/to/Reacher_Linux_NoVis/Reacher.x86_64\"`\n",
    "\n",
    "For instance, if you are using a Mac, then you downloaded `Reacher.app`.  If this file is in the same folder as the notebook, then the line below should appear as follows:\n",
    "```\n",
    "env = UnityEnvironment(file_name=\"Reacher.app\")\n",
    "```"
   ]
  },
  {
   "cell_type": "code",
   "execution_count": null,
   "metadata": {
    "pycharm": {
     "name": "#%%\n"
    }
   },
   "outputs": [],
   "source": [
    "env = UnityEnvironment(file_name='./Reacher_Linux_1/Reacher.x86_64')"
   ]
  },
  {
   "cell_type": "markdown",
   "metadata": {
    "pycharm": {
     "name": "#%% md\n"
    }
   },
   "source": [
    "Environments contain **_brains_** which are responsible for deciding the actions of their associated agents. Here we check for the first brain available, and set it as the default brain we will be controlling from Python."
   ]
  },
  {
   "cell_type": "code",
   "execution_count": null,
   "metadata": {
    "pycharm": {
     "name": "#%%\n"
    }
   },
   "outputs": [],
   "source": [
    "# get the default brain\n",
    "brain_name = env.brain_names[0]\n",
    "brain = env.brains[brain_name]"
   ]
  },
  {
   "cell_type": "markdown",
   "metadata": {
    "pycharm": {
     "name": "#%% md\n"
    }
   },
   "source": [
    "### 2. Examine the State and Action Spaces\n",
    "\n",
    "In this environment, a double-jointed arm can move to target locations. A reward of `+0.1` is provided for each step that the agent's hand is in the goal location. Thus, the goal of your agent is to maintain its position at the target location for as many time steps as possible.\n",
    "\n",
    "The observation space consists of `33` variables corresponding to position, rotation, velocity, and angular velocities of the arm.  Each action is a vector with four numbers, corresponding to torque applicable to two joints.  Every entry in the action vector must be a number between `-1` and `1`.\n",
    "\n",
    "Run the code cell below to print some information about the environment."
   ]
  },
  {
   "cell_type": "code",
   "execution_count": null,
   "metadata": {
    "pycharm": {
     "name": "#%%\n"
    }
   },
   "outputs": [],
   "source": [
    "# reset the environment\n",
    "env_info = env.reset(train_mode=True)[brain_name]\n",
    "\n",
    "# number of agents\n",
    "num_agents = len(env_info.agents)\n",
    "print('Number of agents:', num_agents)\n",
    "\n",
    "# size of each action\n",
    "action_size = brain.vector_action_space_size\n",
    "print('Size of each action:', action_size)\n",
    "\n",
    "# examine the state space \n",
    "states = env_info.vector_observations\n",
    "state_size = states.shape[1]\n",
    "print('There are {} agents. Each observes a state with length: {}'.format(states.shape[0], state_size))\n",
    "print('The state for the first agent looks like:', states[0])"
   ]
  },
  {
   "cell_type": "markdown",
   "metadata": {
    "pycharm": {
     "name": "#%% md\n"
    }
   },
   "source": [
    "### 3. Take Random Actions in the Environment\n",
    "\n",
    "In the next code cell, you will learn how to use the Python API to control the agent and receive feedback from the environment.\n",
    "\n",
    "Once this cell is executed, you will watch the agent's performance, if it selects an action at random with each time step.  A window should pop up that allows you to observe the agent, as it moves through the environment.  \n",
    "\n",
    "Of course, as part of the project, you'll have to change the code so that the agent is able to use its experience to gradually choose better actions when interacting with the environment!"
   ]
  },
  {
   "cell_type": "code",
   "execution_count": null,
   "metadata": {
    "pycharm": {
     "name": "#%%\n"
    }
   },
   "outputs": [],
   "source": [
    "env_info = env.reset(train_mode=False)[brain_name]     # reset the environment    \n",
    "states = env_info.vector_observations                  # get the current state (for each agent)\n",
    "scores = np.zeros(num_agents)                          # initialize the score (for each agent)\n",
    "while True:\n",
    "    actions = np.random.randn(num_agents, action_size) # select an action (for each agent)\n",
    "    actions = np.clip(actions, -1, 1)                  # all actions between -1 and 1\n",
    "    env_info = env.step(actions)[brain_name]           # send all actions to tne environment\n",
    "    next_states = env_info.vector_observations         # get next state (for each agent)\n",
    "    rewards = env_info.rewards                         # get reward (for each agent)\n",
    "    dones = env_info.local_done                        # see if episode finished\n",
    "    scores += env_info.rewards                         # update the score (for each agent)\n",
    "    states = next_states                               # roll over states to next time step\n",
    "    if np.any(dones):                                  # exit loop if episode finished\n",
    "        break\n",
    "print('Total score (averaged over agents) this episode: {}'.format(np.mean(scores)))"
   ]
  },
  {
   "cell_type": "markdown",
   "metadata": {
    "pycharm": {
     "name": "#%% md\n"
    }
   },
   "source": [
    "When finished, you can close the environment."
   ]
  },
  {
   "cell_type": "markdown",
   "metadata": {
    "pycharm": {
     "name": "#%% md\n"
    }
   },
   "source": [
    "### 4. It's Your Turn!\n",
    "\n",
    "Now it's your turn to train your own agent to solve the environment!  When training the environment, set `train_mode=True`, so that the line for resetting the environment looks like the following:\n",
    "```python\n",
    "env_info = env.reset(train_mode=True)[brain_name]\n",
    "```"
   ]
  },
  {
   "cell_type": "code",
   "execution_count": null,
   "metadata": {
    "pycharm": {
     "name": "#%%\n"
    }
   },
   "outputs": [],
   "source": [
    "import torch\n",
    "from collections import deque\n",
    "\n",
    "# train the agent\n",
    "def train_ddpg(agent, memory, n_episodes=10, mode='train', \n",
    "        actor_pth='./checkpoint/ddpg_actor_checkpoint.pth',\n",
    "        critic_pth='./checkpoint/ddpg_critic_checkpoint.pth'):\n",
    "    \n",
    "    '''Set up trainings configuration and print out episodic performance measures, such as average scores, average loss.\n",
    "    \n",
    "    Params\n",
    "    ======\n",
    "        agent (class object)\n",
    "        memory (class attribute): agent's attribute for memory size tracking\n",
    "        mode (string): 'train' or 'test', when in test mode, the agent acts in greedy policy only\n",
    "        pth (string path): file name for the checkpoint    \n",
    "    '''\n",
    "    \n",
    "    scores = []\n",
    "    scores_window = deque(maxlen=100)  \n",
    "    c_loss_window = deque(maxlen=100)\n",
    "    a_loss_window = deque(maxlen=100)\n",
    "\n",
    "    for i_episode in range(1, n_episodes+1):\n",
    "        env_info = env.reset(train_mode=True)[brain_name]  # reset the environment and activate train_mode\n",
    "        state = env_info.vector_observations[0]            # get the current state\n",
    "        score = 0\n",
    "        agent.running_c_loss = 0\n",
    "        agent.running_a_loss = 0\n",
    "        agent.training_cnt = 0\n",
    "        # agent.reset() # reset OUNoise\n",
    "        \n",
    "        while True:\n",
    "            action = agent.act(state, mode)\n",
    "            env_info = env.step(action)[brain_name]        # send the action to the environment\n",
    "            next_state = env_info.vector_observations[0]   # get the next state\n",
    "            reward = env_info.rewards[0]                   # get the reward\n",
    "            done = env_info.local_done[0]                  # see if episode has finished        \n",
    "\n",
    "            agent.step(state, action, reward, next_state, done)\n",
    "\n",
    "            score += reward\n",
    "            state = next_state\n",
    "            if done:\n",
    "                break\n",
    "\n",
    "        scores_window.append(score)\n",
    "        scores.append(score)\n",
    "        c_loss_window.append(agent.running_c_loss/(agent.training_cnt+0.0001)) # avoid zero\n",
    "        a_loss_window.append(agent.running_a_loss/(agent.training_cnt+0.0001)) # avoid zero\n",
    "        print('\\rEpisode {:>4}\\tAverage Score:{:>6.3f}\\tMemory Size:{:>5}\\tCLoss:{:>12.8f}\\tALoss:{:>10.6f}'.format(\n",
    "            i_episode, np.mean(scores_window), len(memory), np.mean(c_loss_window), np.mean(a_loss_window)), end=\"\")\n",
    "        if i_episode % 100 == 0:\n",
    "            print('\\rEpisode {:>4}\\tAverage Score:{:>6.3f}\\tMemory Size:{:>5}\\tCLoss:{:>12.8f}\\tALoss:{:>10.6f}'.format(\n",
    "                i_episode, np.mean(scores_window), len(memory), np.mean(c_loss_window), np.mean(a_loss_window)))\n",
    "        if np.mean(scores_window) >= 31:\n",
    "            break\n",
    "    torch.save(agent.actor_local.state_dict(), actor_pth)\n",
    "    torch.save(agent.critic_local.state_dict(), critic_pth)\n",
    "    return scores"
   ]
  },
  {
   "cell_type": "code",
   "execution_count": null,
   "metadata": {
    "pycharm": {
     "name": "#%%\n"
    }
   },
   "outputs": [],
   "source": [
    "import matplotlib.pyplot as plt\n",
    "import pandas as pd\n",
    "%matplotlib inline\n",
    "\n",
    "def plot_scores(scores, rolling_window=100):\n",
    "    '''Plot score and its moving average on the same chart.'''\n",
    "    \n",
    "    fig = plt.figure(figsize=(10,5))\n",
    "    plt.plot(np.arange(len(scores)), scores, '-c', label='episode score')\n",
    "    plt.title('Episodic Score')\n",
    "    rolling_mean = pd.Series(scores).rolling(rolling_window).mean()\n",
    "    plt.plot(np.arange(len(scores)), rolling_mean, '-y', label='rolling_mean')\n",
    "    plt.ylabel('score')\n",
    "    plt.xlabel('episode #')\n",
    "    plt.legend()"
   ]
  },
  {
   "cell_type": "code",
   "execution_count": null,
   "metadata": {
    "pycharm": {
     "name": "#%%\n"
    }
   },
   "outputs": [],
   "source": [
    "from tools import active_session\n",
    "from ddpg_agent import Agent\n",
    "agent_ddpg = Agent(state_size=33, action_size=4, seed=199)\n",
    "\n",
    "ddpg_ep_rewards_list = train_ddpg(agent=agent_ddpg, memory=agent_ddpg.memory,\n",
    "                                  n_episodes=1000)\n",
    "ddpg_ep_rewards_list = np.array(ddpg_ep_rewards_list)\n",
    "np.save('./data/ddpg_ep_rewards_list.npy', ddpg_ep_rewards_list)"
   ]
  },
  {
   "cell_type": "code",
   "execution_count": null,
   "metadata": {
    "pycharm": {
     "name": "#%%\n"
    }
   },
   "outputs": [],
   "source": [
    "def train_d4pg(agent, memory, n_episodes=10, mode='train', \n",
    "        actor_pth='./checkpoint/d4pg_actor_checkpoint.pth',\n",
    "        critic_pth='./checkpoint/d4pg_critic_checkpoint.pth'):\n",
    "    \n",
    "    '''Set up training configuration and print out episodic performance measures, such as average scores, average loss.\n",
    "    \n",
    "    Params\n",
    "    ======\n",
    "        agent (class object)\n",
    "        memory (class attribute): agent's attribute for memory size tracking\n",
    "        mode (string): 'train' or 'test', when in test mode, the agent acts in greedy policy only\n",
    "        pth (string path): file name for the checkpoint    \n",
    "    '''\n",
    "    \n",
    "    scores = []\n",
    "    scores_window = deque(maxlen=100)  \n",
    "    c_loss_window = deque(maxlen=100)\n",
    "    a_loss_window = deque(maxlen=100)\n",
    "\n",
    "    for i_episode in range(1, n_episodes+1):\n",
    "        env_info = env.reset(train_mode=True)[brain_name]  # reset the environment and activate train_mode\n",
    "        state = env_info.vector_observations               # get the current state\n",
    "        score = 0\n",
    "        agent.running_c_loss = 0\n",
    "        agent.running_a_loss = 0\n",
    "        agent.training_cnt = 0\n",
    "        # agent.reset() # reset OUNoise\n",
    "        \n",
    "        while True:\n",
    "            action = agent.act(state, mode)\n",
    "            env_info = env.step(action)[brain_name]        # send the action to the environment\n",
    "            next_state = env_info.vector_observations      # get the next state\n",
    "            reward = env_info.rewards[0]                   # get the reward\n",
    "            done = env_info.local_done[0]                  # see if episode has finished        \n",
    "\n",
    "            agent.step(state, action, reward, next_state, done)\n",
    "\n",
    "            score += reward\n",
    "            state = next_state\n",
    "            if done:\n",
    "                break\n",
    "\n",
    "        scores_window.append(score)\n",
    "        scores.append(score)\n",
    "        c_loss_window.append(agent.running_c_loss/(agent.training_cnt+0.0001)) # avoid zero\n",
    "        a_loss_window.append(agent.running_a_loss/(agent.training_cnt+0.0001)) # avoid zero\n",
    "        print('\\rEpisode {:>4}\\tAverage Score:{:>6.3f}\\tMemory Size:{:>5}\\tCLoss:{:>12.8f}\\tALoss:{:>10.6f}'.format(\n",
    "            i_episode, np.mean(scores_window), len(memory), np.mean(c_loss_window), np.mean(a_loss_window)), end=\"\")\n",
    "        if i_episode % 100 == 0:\n",
    "            print('\\rEpisode {:>4}\\tAverage Score:{:>6.3f}\\tMemory Size:{:>5}\\tCLoss:{:>12.8f}\\tALoss:{:>10.6f}'.format(\n",
    "                i_episode, np.mean(scores_window), len(memory), np.mean(c_loss_window), np.mean(a_loss_window)))\n",
    "        if np.mean(scores_window) >= 31:\n",
    "            break\n",
    "    torch.save(agent.actor_local.state_dict(), actor_pth)\n",
    "    torch.save(agent.critic_local.state_dict(), critic_pth)\n",
    "    return scores"
   ]
  },
  {
   "cell_type": "code",
   "execution_count": null,
   "metadata": {
    "pycharm": {
     "name": "#%%\n"
    }
   },
   "outputs": [],
   "source": [
    "from d4pg_agent import AgentD4PG\n",
    "agent_d4pg = AgentD4PG(state_size=33, action_size=4, seed=168)"
   ]
  },
  {
   "cell_type": "code",
   "execution_count": null,
   "metadata": {
    "pycharm": {
     "name": "#%%\n"
    }
   },
   "outputs": [],
   "source": [
    "d4pg_ep_rewards_list = train_d4pg(agent=agent_d4pg, memory=agent_d4pg.memory,\n",
    "                                n_episodes=20000,\n",
    "                                mode = \"train\",\n",
    "                                actor_pth='./checkpoint/d4pg_actor_checkpoint.pth',\n",
    "                                critic_pth='./checkpoint/d4pg_critic_checkpoint.pth')\n",
    "d4pg_ep_rewards_list = np.array(d4pg_ep_rewards_list)\n",
    "np.save('./data/d4pg_ep_rewards_list.npy', d4pg_ep_rewards_list)"
   ]
  },
  {
   "cell_type": "code",
   "execution_count": null,
   "metadata": {
    "pycharm": {
     "name": "#%%\n"
    }
   },
   "outputs": [],
   "source": [
    "plot_scores(d4pg_ep_rewards_list)"
   ]
  },
  {
   "cell_type": "code",
   "execution_count": null,
   "metadata": {
    "pycharm": {
     "name": "#%%\n"
    }
   },
   "outputs": [],
   "source": [
    "env.close()"
   ]
  },
  {
   "cell_type": "markdown",
   "metadata": {
    "pycharm": {
     "name": "#%% md\n"
    }
   },
   "source": [
    "# Training Multiple Agents"
   ]
  },
  {
   "cell_type": "code",
   "execution_count": null,
   "metadata": {
    "pycharm": {
     "name": "#%%\n"
    }
   },
   "outputs": [],
   "source": [
    "env = UnityEnvironment(file_name='./Reacher_Linux_20/Reacher.x86_64')"
   ]
  },
  {
   "cell_type": "code",
   "execution_count": null,
   "metadata": {
    "pycharm": {
     "name": "#%%\n"
    }
   },
   "outputs": [],
   "source": [
    "# get the default brain\n",
    "brain_name = env.brain_names[0]\n",
    "brain = env.brains[brain_name]"
   ]
  },
  {
   "cell_type": "code",
   "execution_count": null,
   "metadata": {
    "pycharm": {
     "name": "#%%\n"
    }
   },
   "outputs": [],
   "source": [
    "# reset the environment\n",
    "env_info = env.reset(train_mode=True)[brain_name]\n",
    "\n",
    "# number of agents\n",
    "num_agents = len(env_info.agents)\n",
    "print('Number of agents:', num_agents)\n",
    "\n",
    "# size of each action\n",
    "action_size = brain.vector_action_space_size\n",
    "print('Size of each action:', action_size)\n",
    "\n",
    "# examine the state space \n",
    "states = env_info.vector_observations\n",
    "state_size = states.shape[1]\n",
    "print('There are {} agents. Each observes a state with length: {}'.format(states.shape[0], state_size))\n",
    "print('The state for the first agent looks like:', states[0])"
   ]
  },
  {
   "cell_type": "code",
   "execution_count": null,
   "metadata": {
    "pycharm": {
     "name": "#%%\n"
    }
   },
   "outputs": [],
   "source": [
    "from a2cModel import A2CModel\n",
    "from a2cModel import collect_trajectories, learn"
   ]
  },
  {
   "cell_type": "code",
   "execution_count": null,
   "metadata": {
    "pycharm": {
     "name": "#%%\n"
    }
   },
   "outputs": [],
   "source": [
    "#from IPython.core.debugger import set_trace\n",
    "#set_trace()\n",
    "\n",
    "from collections import deque\n",
    "\n",
    "torch.backends.cudnn.deterministic = True\n",
    "torch.manual_seed(999)\n",
    "\n",
    "device = torch.device(\"cuda:0\" if torch.cuda.is_available() else \"cpu\")\n",
    "\n",
    "agent_a2c = A2CModel().to(device)\n",
    "optimizer = optim.Adam(agent_a2c.parameters(), lr=0.00015)\n",
    "\n",
    "env_info = env.reset(train_mode=True)[brain_name] \n",
    "states = env_info.vector_observations\n",
    "init_states = states\n",
    "\n",
    "n_episodes = 1\n",
    "n_steps = 10\n",
    "episode_end = False\n",
    "a2c_ep_rewards_list = []\n",
    "ep_rewards_deque = deque([0], maxlen=100) # initialize with 0\n",
    "ep_rewards = 0\n",
    "\n",
    "while True:\n",
    "    batch_s, batch_a, batch_v_t, accu_rewards, init_states, episode_end = collect_trajectories(\n",
    "            agent_a2c, env, brain_name, init_states, episode_end, n_steps)\n",
    "\n",
    "    loss, mus, stds = learn(batch_s, batch_a, batch_v_t, agent_a2c, optimizer)\n",
    "    ep_rewards += accu_rewards\n",
    "    print('\\rEpisode {:>4}\\tEpisodic Score {:>7.3f}\\tLoss {:>12.6f}'.format(\n",
    "            n_episodes, np.mean(ep_rewards_deque), float(loss)), end=\"\")\n",
    "\n",
    "    if episode_end == True:\n",
    "        if n_episodes % 100 == 0:\n",
    "            print('\\rEpisode {:>4}\\tEpisodic Score {:>7.3f}\\tLoss {:>12.6f}'.format(\n",
    "                    n_episodes, np.mean(ep_rewards_deque), float(loss)))\n",
    "\n",
    "        if np.mean(ep_rewards_deque) >= 34:\n",
    "            break\n",
    "        a2c_ep_rewards_list.append(ep_rewards/num_agents)\n",
    "        ep_rewards_deque.append(ep_rewards/num_agents)\n",
    "        ep_rewards = 0\n",
    "        n_episodes += 1\n",
    "        episode_end = False\n",
    "            \n",
    "# save a2c model\n",
    "pth = './checkpoint/a2c_checkpoint.pth'\n",
    "torch.save(agent_a2c.state_dict(), pth)\n",
    "\n",
    "a2c_ep_rewards_list = np.array(a2c_ep_rewards_list)\n",
    "np.save('./data/a2c_ep_rewards_list.npy', a2c_ep_rewards_list)"
   ]
  },
  {
   "cell_type": "code",
   "execution_count": null,
   "metadata": {
    "pycharm": {
     "name": "#%%\n"
    }
   },
   "outputs": [],
   "source": [
    "plot_scores(a2c_ep_rewards_list)"
   ]
  },
  {
   "cell_type": "markdown",
   "metadata": {
    "pycharm": {
     "name": "#%%\n"
    }
   },
   "source": [
    "# Visualization of all models"
   ]
  },
  {
   "cell_type": "code",
   "execution_count": 11,
   "metadata": {
    "pycharm": {
     "name": "#%%\n"
    }
   },
   "outputs": [
    {
     "data": {
      "image/png": "[encoded data removed]",
      "text/plain": [
       "<Figure size 720x360 with 1 Axes>"
      ]
     },
     "metadata": {
      "needs_background": "light"
     },
     "output_type": "display_data"
    }
   ],
   "source": [
    "import matplotlib.pyplot as plt\n",
    "import pandas as pd\n",
    "%matplotlib inline\n",
    "\n",
    "ddpg_ep_rewards_list = np.load('./data/ddpg_ep_rewards_list.npy')\n",
    "a2c_ep_rewards_list = np.load('./data/a2c_ep_rewards_list.npy')\n",
    "d4pg_ep_rewards_list = np.load('./data/d4pg_ep_rewards_list.npy')\n",
    "\n",
    "ddpg_ep_rewards_list_rolling_mean = pd.Series(ddpg_ep_rewards_list).rolling(100).mean()\n",
    "a2c_ep_rewards_list_rolling_mean = pd.Series(a2c_ep_rewards_list).rolling(100).mean()\n",
    "d4pg_ep_rewards_list_rolling_mean = pd.Series(d4pg_ep_rewards_list).rolling(100).mean()\n",
    "\n",
    "# plot all models\n",
    "fig = plt.figure(figsize=(10,5))\n",
    "plt.title('Compare rolling means of the rewards of the employed algorithms')\n",
    "plt.plot(np.arange(len(a2c_ep_rewards_list_rolling_mean)), a2c_ep_rewards_list_rolling_mean, '-g', label='a2c')\n",
    "plt.plot(np.arange(len(d4pg_ep_rewards_list_rolling_mean)), d4pg_ep_rewards_list_rolling_mean, '-y', label='d4pg')\n",
    "plt.plot(np.arange(len(ddpg_ep_rewards_list_rolling_mean)), ddpg_ep_rewards_list_rolling_mean, '-r', label='ddpg')\n",
    "plt.ylabel('rolling mean')\n",
    "plt.xlabel('episode #')\n",
    "plt.legend()\n",
    "plt.show()"
   ]
  }
 ],
 "metadata": {
  "kernelspec": {
   "display_name": "Python 3",
   "language": "python",
   "name": "python3"
  },
  "language_info": {
   "codemirror_mode": {
    "name": "ipython",
    "version": 3
   },
   "file_extension": ".py",
   "mimetype": "text/x-python",
   "name": "python",
   "nbconvert_exporter": "python",
   "pygments_lexer": "ipython3",
   "version": "3.6.13"
  }
 },
 "nbformat": 4,
 "nbformat_minor": 2
}
